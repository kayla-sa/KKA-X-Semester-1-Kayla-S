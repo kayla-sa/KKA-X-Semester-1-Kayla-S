{
  "nbformat": 4,
  "nbformat_minor": 0,
  "metadata": {
    "colab": {
      "provenance": [],
      "authorship_tag": "ABX9TyNZfOl2GtM0TN9x+fdw98IC",
      "include_colab_link": true
    },
    "kernelspec": {
      "name": "python3",
      "display_name": "Python 3"
    },
    "language_info": {
      "name": "python"
    }
  },
  "cells": [
    {
      "cell_type": "markdown",
      "metadata": {
        "id": "view-in-github",
        "colab_type": "text"
      },
      "source": [
        "<a href=\"https://colab.research.google.com/github/kayla-sa/KKA-X-Semester-1-Kayla-S/blob/main/1_Fungsii_Print_Kayla_Saputri_X_1ipynb.ipynb\" target=\"_parent\"><img src=\"https://colab.research.google.com/assets/colab-badge.svg\" alt=\"Open In Colab\"/></a>"
      ]
    },
    {
      "cell_type": "markdown",
      "source": [
        "Nama: Kayla Saputri\n",
        "\n",
        "Kelas:X.1\n",
        "\n",
        "Nomor absen:15"
      ],
      "metadata": {
        "id": "rm8ORGA8KjOX"
      }
    },
    {
      "cell_type": "markdown",
      "source": [
        "Menampilkan Teks Bebas(string)"
      ],
      "metadata": {
        "id": "x53Rte6PKwTs"
      }
    },
    {
      "cell_type": "code",
      "source": [
        "print(\"Halo world!\")"
      ],
      "metadata": {
        "colab": {
          "base_uri": "https://localhost:8080/"
        },
        "id": "9bGjVRQGLA7a",
        "outputId": "661c2f92-c7a7-40f2-e39d-fa85649b1822"
      },
      "execution_count": null,
      "outputs": [
        {
          "output_type": "stream",
          "name": "stdout",
          "text": [
            "Halo world!\n"
          ]
        }
      ]
    },
    {
      "cell_type": "markdown",
      "source": [
        "Menampilkan Nilai Variabel"
      ],
      "metadata": {
        "id": "AtYwrnNfLIHt"
      }
    },
    {
      "cell_type": "code",
      "source": [
        "berat_badan= 44\n",
        "print(\"berat_badan\")"
      ],
      "metadata": {
        "colab": {
          "base_uri": "https://localhost:8080/"
        },
        "id": "G7JxtMtJLLzW",
        "outputId": "bfabb7fc-473d-4a72-f24d-c279e6eb64c4"
      },
      "execution_count": null,
      "outputs": [
        {
          "output_type": "stream",
          "name": "stdout",
          "text": [
            "berat_badan\n"
          ]
        }
      ]
    },
    {
      "cell_type": "code",
      "source": [
        "Nama= \"Kayla Saputri\"\n",
        "print(Nama)\n",
        "print(\"Nama\")"
      ],
      "metadata": {
        "colab": {
          "base_uri": "https://localhost:8080/"
        },
        "id": "IocVQKKOLtat",
        "outputId": "bce21f10-8c1c-4ff7-b2fa-d093380d4da9"
      },
      "execution_count": null,
      "outputs": [
        {
          "output_type": "stream",
          "name": "stdout",
          "text": [
            "Kayla Saputri\n",
            "Nama\n"
          ]
        }
      ]
    },
    {
      "cell_type": "markdown",
      "source": [
        "Menampilkan Teks Bebas dan Nilai Variabel"
      ],
      "metadata": {
        "id": "ALDCi5dDMMD3"
      }
    },
    {
      "cell_type": "code",
      "source": [
        "print(\"Berat badan saya adalah\", berat_badan, \"kg\")"
      ],
      "metadata": {
        "colab": {
          "base_uri": "https://localhost:8080/"
        },
        "id": "LgvPTdNuM2J_",
        "outputId": "1c5ffd69-b6e5-4574-f61c-6b16d6258496"
      },
      "execution_count": null,
      "outputs": [
        {
          "output_type": "stream",
          "name": "stdout",
          "text": [
            "Berat badan saya adalah 44 kg\n"
          ]
        }
      ]
    },
    {
      "cell_type": "code",
      "source": [
        "print(\"perkenalkan nama saya\", Nama, \".\")"
      ],
      "metadata": {
        "colab": {
          "base_uri": "https://localhost:8080/"
        },
        "id": "MRoPowjHNUP_",
        "outputId": "b72a2f60-f719-4212-a6bb-b9dfe131c5ea"
      },
      "execution_count": null,
      "outputs": [
        {
          "output_type": "stream",
          "name": "stdout",
          "text": [
            "perkenalkan nama saya Kayla Saputri .\n"
          ]
        }
      ]
    },
    {
      "cell_type": "code",
      "source": [
        "print(\"perkenalkan nama saya,\" + Nama +\".\")"
      ],
      "metadata": {
        "colab": {
          "base_uri": "https://localhost:8080/"
        },
        "id": "nvmT3vH8NiCX",
        "outputId": "29e075e0-ce36-4a51-e302-07ce1fbde30c"
      },
      "execution_count": null,
      "outputs": [
        {
          "output_type": "stream",
          "name": "stdout",
          "text": [
            "perkenalkan nama saya,Kayla Saputri.\n"
          ]
        }
      ]
    },
    {
      "cell_type": "code",
      "source": [
        "print(\"Berat badan saya adalah\" + str(berat_badan) + \"kg.\")"
      ],
      "metadata": {
        "colab": {
          "base_uri": "https://localhost:8080/"
        },
        "id": "33Qq15zNN1ia",
        "outputId": "3ee02d0f-3f1d-4546-a348-250447e39810"
      },
      "execution_count": null,
      "outputs": [
        {
          "output_type": "stream",
          "name": "stdout",
          "text": [
            "Berat badan saya adalah44kg.\n"
          ]
        }
      ]
    },
    {
      "cell_type": "code",
      "source": [
        "print(f\"perkenalkan nama saya {Nama}.Berat badan saya adalah{berat_badan} kg.\")"
      ],
      "metadata": {
        "colab": {
          "base_uri": "https://localhost:8080/"
        },
        "id": "ujSRyRN2ONep",
        "outputId": "587c5d34-6c07-4d39-cc30-b4acd568976c"
      },
      "execution_count": null,
      "outputs": [
        {
          "output_type": "stream",
          "name": "stdout",
          "text": [
            "perkenalkan nama saya Kayla Saputri.Berat badan saya adalah44 kg.\n"
          ]
        }
      ]
    },
    {
      "cell_type": "markdown",
      "source": [
        "Fungsi Print"
      ],
      "metadata": {
        "id": "7ls8TVh3O5H7"
      }
    },
    {
      "cell_type": "markdown",
      "source": [
        "ESCAPE CHARACTER"
      ],
      "metadata": {
        "id": "oCGU7D1gPGX_"
      }
    },
    {
      "cell_type": "code",
      "source": [
        "print(\"Nama: Kayla Saputri\")\n",
        "print(\"Kelas:X.1\")\n",
        "print(\"No.absen: 15\")"
      ],
      "metadata": {
        "colab": {
          "base_uri": "https://localhost:8080/"
        },
        "id": "qWmZLNSoPMNk",
        "outputId": "11c3e131-8982-4447-bea6-ae8f23c3aec3"
      },
      "execution_count": null,
      "outputs": [
        {
          "output_type": "stream",
          "name": "stdout",
          "text": [
            "Nama: Kayla Saputri\n",
            "Kelas:X.1\n",
            "No.absen: 15\n"
          ]
        }
      ]
    },
    {
      "cell_type": "code",
      "source": [
        "print(\"\"\"Nama: Kayla Saputri\n",
        "Kelas:X.1\n",
        "No.absen:15\"\"\")"
      ],
      "metadata": {
        "colab": {
          "base_uri": "https://localhost:8080/"
        },
        "id": "j9Ipt015Plig",
        "outputId": "673bfcd3-2385-442c-bd9f-11f28b06e9ee"
      },
      "execution_count": null,
      "outputs": [
        {
          "output_type": "stream",
          "name": "stdout",
          "text": [
            "Nama: Kayla Saputri \n",
            "Kelas:X.1\n",
            "No.absen:15\n"
          ]
        }
      ]
    },
    {
      "cell_type": "code",
      "source": [
        "print(\"Nama\\t\\t: Kayla Saputri\\nKelas\\t\\t:X.1\\nNo.absen\\t: 15\")"
      ],
      "metadata": {
        "colab": {
          "base_uri": "https://localhost:8080/"
        },
        "id": "n2IRSGDYQB--",
        "outputId": "72cff6e7-bf40-4166-cea8-0dd6c86c5018"
      },
      "execution_count": null,
      "outputs": [
        {
          "output_type": "stream",
          "name": "stdout",
          "text": [
            "Nama\t\t: Kayla Saputri\n",
            "Kelas\t\t:X.1\n",
            "No.absen\t: 15\n"
          ]
        }
      ]
    },
    {
      "cell_type": "code",
      "execution_count": null,
      "metadata": {
        "colab": {
          "base_uri": "https://localhost:8080/"
        },
        "id": "-0VhmZxzhUVu",
        "outputId": "437177c1-d99f-4f7b-8858-b4e0d232cd6c"
      },
      "outputs": [
        {
          "output_type": "stream",
          "name": "stdout",
          "text": [
            "Halo nama saya habib jafar\n"
          ]
        }
      ],
      "source": [
        "print (\"Halo nama saya habib jafar\")"
      ]
    },
    {
      "cell_type": "code",
      "source": [
        "print('Halo nama saya Habib jafar ')"
      ],
      "metadata": {
        "colab": {
          "base_uri": "https://localhost:8080/"
        },
        "id": "3onhrruzh3iV",
        "outputId": "389f0740-076d-4b4e-dc46-51d80bfa8a55"
      },
      "execution_count": null,
      "outputs": [
        {
          "output_type": "stream",
          "name": "stdout",
          "text": [
            "Halo nama saya Habib jafar \n"
          ]
        }
      ]
    },
    {
      "cell_type": "code",
      "source": [
        "print('halo nama saya habib ja\\'far')"
      ],
      "metadata": {
        "colab": {
          "base_uri": "https://localhost:8080/"
        },
        "id": "KTKMEZ5ZiC7s",
        "outputId": "9c36c2f8-a247-4e6e-93fa-d8ae49233830"
      },
      "execution_count": null,
      "outputs": [
        {
          "output_type": "stream",
          "name": "stdout",
          "text": [
            "halo nama saya habib ja'far\n"
          ]
        }
      ]
    },
    {
      "cell_type": "code",
      "source": [
        "print(\"Bu sinta berkata,\\\"tolong fokus ke tv sejenak\\\"\")"
      ],
      "metadata": {
        "colab": {
          "base_uri": "https://localhost:8080/"
        },
        "id": "uNuiI3ORiRWP",
        "outputId": "edaba302-9306-4e5e-b3b4-dadb712a9e9d"
      },
      "execution_count": null,
      "outputs": [
        {
          "output_type": "stream",
          "name": "stdout",
          "text": [
            "Bu sinta berkata,\"tolong fokus ke tv sejenak\"\n"
          ]
        }
      ]
    },
    {
      "cell_type": "code",
      "source": [
        "print('Bu sinta berkata,\"tolong fokus ke tv sejenak\"')"
      ],
      "metadata": {
        "colab": {
          "base_uri": "https://localhost:8080/"
        },
        "id": "D7wENxvHiyWe",
        "outputId": "49d6e70b-1e71-43b7-b395-210b05faad09"
      },
      "execution_count": null,
      "outputs": [
        {
          "output_type": "stream",
          "name": "stdout",
          "text": [
            "Bu sinta berkata,\"tolong fokus ke tv sejenak\"\n"
          ]
        }
      ]
    },
    {
      "cell_type": "code",
      "source": [
        "print(\"silahkan simpan file tugas KKA di folder local disk D:\\\\Man Demak\\\\KKA\\\\Tugas\")"
      ],
      "metadata": {
        "colab": {
          "base_uri": "https://localhost:8080/"
        },
        "id": "TPe278dJi8ws",
        "outputId": "56ff64d9-d902-4993-bef8-924a6dfce596"
      },
      "execution_count": null,
      "outputs": [
        {
          "output_type": "stream",
          "name": "stdout",
          "text": [
            "silahkan simpan file tugas KKA di folder local disk D:\\Man Demak\\KKA\\Tugas\n"
          ]
        }
      ]
    },
    {
      "cell_type": "markdown",
      "source": [
        "Latihan Soal:"
      ],
      "metadata": {
        "id": "m30ouNCuQ-gk"
      }
    },
    {
      "cell_type": "code",
      "source": [
        "print('Bu Sinta berkata,\"berikut adalah piket harian kelas x.2 yang disimpan di file D:\\\\Man Demk\\\\Jadwal piket\"\\n')\n",
        "print(\"\"\"senin\\t\\tselasa\\t\\trabu\n",
        "Jielo\\t\\thasbi\\t\\tnaufal\n",
        "Azam\\t\\tA'inun\\t\\tnurul\"\"\")"
      ],
      "metadata": {
        "colab": {
          "base_uri": "https://localhost:8080/"
        },
        "id": "HXt-zTk9jbP7",
        "outputId": "55da3a58-2fc6-4e2f-f91c-f137f5902cf9"
      },
      "execution_count": null,
      "outputs": [
        {
          "output_type": "stream",
          "name": "stdout",
          "text": [
            "Bu Sinta berkata,\"berikut adalah piket harian kelas x.2 yang disimpan di file D:\\Man Demk\\Jadwal piket\"\n",
            "\n",
            "senin\t\tselasa\t\trabu\n",
            "Jielo\t\thasbi\t\tnaufal\n",
            "Azam\t\tA'inun\t\tnurul\n"
          ]
        }
      ]
    },
    {
      "cell_type": "markdown",
      "source": [
        "Parameter Fungsi Print"
      ],
      "metadata": {
        "id": "FjPad7HqpD8R"
      }
    },
    {
      "cell_type": "code",
      "source": [
        "nama_siswa_1 = \"Dias\"\n",
        "nama_siswa_2 = \"Disa\"\n",
        "nama_siswa_3 = \"Tyas\"\n",
        "print(nama_siswa_1,end=\" \")\n",
        "print(nama_siswa_2)"
      ],
      "metadata": {
        "colab": {
          "base_uri": "https://localhost:8080/"
        },
        "id": "MfBNfADipL_b",
        "outputId": "b7ae1835-c673-4d71-89f4-151e53851136"
      },
      "execution_count": null,
      "outputs": [
        {
          "output_type": "stream",
          "name": "stdout",
          "text": [
            "Dias Disa\n"
          ]
        }
      ]
    },
    {
      "cell_type": "code",
      "source": [
        "print(nama_siswa_1,nama_siswa_2)"
      ],
      "metadata": {
        "colab": {
          "base_uri": "https://localhost:8080/"
        },
        "id": "xqHFaKRAqYvE",
        "outputId": "00574db8-459b-45ee-e5e4-e85c56cfc91c"
      },
      "execution_count": null,
      "outputs": [
        {
          "output_type": "stream",
          "name": "stdout",
          "text": [
            "Dias Disa\n"
          ]
        }
      ]
    },
    {
      "cell_type": "code",
      "source": [
        "print(nama_siswa_1,nama_siswa_2, sep=\"-\")"
      ],
      "metadata": {
        "colab": {
          "base_uri": "https://localhost:8080/"
        },
        "id": "Tpi1TsULriKp",
        "outputId": "2cf09e6d-2adf-49e2-912f-5eaac6eb5ed9"
      },
      "execution_count": null,
      "outputs": [
        {
          "output_type": "stream",
          "name": "stdout",
          "text": [
            "Dias-Disa\n"
          ]
        }
      ]
    },
    {
      "cell_type": "code",
      "source": [
        "nama_siswa_3 = \"kinan\"\n",
        "nama_siswa_4 = \"Azka\"\n",
        "nama_siswa_5 = \"Naufal\"\n",
        "nama_siswa_6 = \"Ridho\"\n",
        "\n",
        "print(nama_siswa_6,nama_siswa_3,nama_siswa_5,nama_siswa_4,nama_siswa_4, sep=\"/\")"
      ],
      "metadata": {
        "colab": {
          "base_uri": "https://localhost:8080/"
        },
        "id": "P-ASY88rrxOH",
        "outputId": "9821be9c-9426-4a47-b416-a8bd2a5b706a"
      },
      "execution_count": null,
      "outputs": [
        {
          "output_type": "stream",
          "name": "stdout",
          "text": [
            "Ridho/kinan/Naufal/Azka/Azka\n"
          ]
        }
      ]
    },
    {
      "cell_type": "code",
      "source": [
        "print(nama_siswa_4, end=\"*\")\n",
        "print(nama_siswa_4, end=\"*\")\n",
        "print(nama_siswa_5, end=\"*\")\n",
        "print(nama_siswa_6, end=\"*\")"
      ],
      "metadata": {
        "colab": {
          "base_uri": "https://localhost:8080/"
        },
        "id": "jvhkKn998HY3",
        "outputId": "706fb03f-6a0e-46cb-cd6d-0c2ee6b4d6d4"
      },
      "execution_count": null,
      "outputs": [
        {
          "output_type": "stream",
          "name": "stdout",
          "text": [
            "Azka*Azka*Naufal*Ridho*"
          ]
        }
      ]
    }
  ]
}